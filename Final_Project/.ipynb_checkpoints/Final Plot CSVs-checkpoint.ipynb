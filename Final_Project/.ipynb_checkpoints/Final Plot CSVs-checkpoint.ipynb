{
 "cells": [
  {
   "cell_type": "code",
   "execution_count": 1,
   "metadata": {},
   "outputs": [],
   "source": [
    "import numpy as np\n",
    "import librosa\n",
    "import aubio\n",
    "import matplotlib.pyplot as plt\n",
    "import librosa.display\n",
    "import pandas\n",
    "import os\n",
    "import glob"
   ]
  },
  {
   "cell_type": "code",
   "execution_count": 2,
   "metadata": {},
   "outputs": [],
   "source": [
    "def extractAttr(filename,attribute, name):\n",
    "    array1 = []\n",
    "    attr = pandas.read_csv(filename,header=None)\n",
    "    title =  name + \" \" + attribute\n",
    "    x = attr.iloc[:,0]\n",
    "    y = attr.iloc[:,1]\n",
    "    yz = np.nonzero(y)\n",
    "    #print(yz)\n",
    "    xnew = []\n",
    "    ynew = []\n",
    "    for item in yz:\n",
    "        xnew.append(x[item])\n",
    "        ynew.append(y[item])\n",
    "    mean = np.mean(ynew)\n",
    "    sd = np.std(ynew)\n",
    "    array1.append(mean)\n",
    "    sdarray.append(sd)\n",
    "    print(mean)\n",
    "    return mean, sd"
   ]
  },
  {
   "cell_type": "code",
   "execution_count": 3,
   "metadata": {},
   "outputs": [],
   "source": [
    "def readall(path,attribute,name,meanarray,sdarray):\n",
    "#def readall(folderpath,attribute,name):\n",
    "    for subdir, dirs, files in os.walk(path):\n",
    "    meanarray = []   \n",
    "    sdarray = []\n",
    "    #print(folderpath)\n",
    "        #for filename in glob.glob(os.path.join(folderpath, '*.csv')):        \n",
    "        for filename in files:\n",
    "            if filename.endswith(\".csv\"):    \n",
    "                #print(subdir)\n",
    "                #print(filename)\n",
    "                filepath = filepath = subdir + os.sep + filename\n",
    "                extractAttr(filepath,attribute,name,meanarray,sdarray)\n",
    "                "
   ]
  },
  {
   "cell_type": "code",
   "execution_count": 5,
   "metadata": {},
   "outputs": [
    {
     "name": "stdout",
     "output_type": "stream",
     "text": [
      "27.57906854679803\n",
      "47.85684343283582\n",
      "46.146357\n",
      "17.174034332247558\n",
      "31.579954840425533\n",
      "59.908944229249016\n",
      "60.42103327586208\n",
      "31.354525702702706\n",
      "31.7182120661157\n",
      "57.85723940828402\n",
      "58.91637196547145\n",
      "54.33111216292136\n",
      "1.8318477691876751\n",
      "1.9292382444570135\n",
      "2.339450895535714\n",
      "2.2463741862499997\n",
      "1.7852994142857144\n",
      "1.8596153831775704\n",
      "1.4237452962264148\n",
      "2.1032866335384615\n",
      "2.506227258333334\n",
      "2.1962691459854016\n",
      "2.057826783738602\n",
      "1.6182165520700635\n",
      "66.12502508009153\n",
      "74.66415781669866\n",
      "29.28136106870229\n",
      "81.87457277804879\n",
      "89.98814748717949\n",
      "68.89156133333333\n",
      "135.15343316666667\n",
      "68.12496\n",
      "32.67304738095238\n",
      "60.70665813909774\n",
      "98.66370450962773\n",
      "91.11782721179625\n"
     ]
    }
   ],
   "source": [
    "means = []\n",
    "sds= []\n",
    "path = os.getcwd()\n",
    "readall(path,'inharm','djt', means, sds)\n",
    "#plt.plot(means, '*r')\n",
    "#plt.plot(sds, '*g')\n",
    "plt.legend(loc=\"upper right\")"
   ]
  },
  {
   "cell_type": "code",
   "execution_count": null,
   "metadata": {},
   "outputs": [],
   "source": []
  },
  {
   "cell_type": "code",
   "execution_count": null,
   "metadata": {},
   "outputs": [],
   "source": []
  },
  {
   "cell_type": "code",
   "execution_count": null,
   "metadata": {},
   "outputs": [],
   "source": [
    "DJTSpecFlux = extractAttr('1.ItsCalledWeather_vamp_bbc-vamp-plugins_bbc-spectral-flux_spectral-flux.csv', 'SpecFlux', 'Its Called Weather')"
   ]
  },
  {
   "cell_type": "code",
   "execution_count": null,
   "metadata": {},
   "outputs": [],
   "source": [
    "with open(filename, 'r') as f:\n",
    "    text = f.read()\n",
    "    print (filename)\n",
    "    print (len(text))\n",
    "    \n",
    "    \n",
    "    \n",
    "def collectAttr(filename, attribute, name, meanarray,sdarray):\n",
    "    mean, sd = extractAttr(filename,attribute,name)\n",
    "    meanarray.append(mean)\n",
    "    sdarray.append(sd)\n",
    "    \n",
    "  "
   ]
  }
 ],
 "metadata": {
  "kernelspec": {
   "display_name": "Python 3",
   "language": "python",
   "name": "python3"
  },
  "language_info": {
   "codemirror_mode": {
    "name": "ipython",
    "version": 3
   },
   "file_extension": ".py",
   "mimetype": "text/x-python",
   "name": "python",
   "nbconvert_exporter": "python",
   "pygments_lexer": "ipython3",
   "version": "3.6.5"
  }
 },
 "nbformat": 4,
 "nbformat_minor": 2
}
