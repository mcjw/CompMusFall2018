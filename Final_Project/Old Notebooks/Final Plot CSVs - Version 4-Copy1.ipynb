{
 "cells": [
  {
   "cell_type": "code",
   "execution_count": 64,
   "metadata": {},
   "outputs": [],
   "source": [
    "import numpy as np\n",
    "import librosa\n",
    "import aubio\n",
    "import matplotlib.pyplot as plt\n",
    "import librosa.display\n",
    "import pandas\n",
    "import os\n",
    "import glob"
   ]
  },
  {
   "cell_type": "code",
   "execution_count": 2,
   "metadata": {},
   "outputs": [],
   "source": [
    "def firstOnsetDetect(path,dictionary):\n",
    "    for subdir, dirs, files in os.walk(path):\n",
    "        #print(1)\n",
    "        for filename in files:\n",
    "            #print(2)\n",
    "            if filename.endswith(\".wav\"): \n",
    "               # print(3)\n",
    "                filename = subdir + os.sep + filename\n",
    "                sig , sr = librosa.load(filename,mono=True,sr=None)\n",
    "                array = librosa.onset.onset_detect(sig,sr)\n",
    "                value = array[0]\n",
    "                dictionary[filename] = value\n",
    "\n",
    "            if filename.endswith(\".m4a\"): \n",
    "               # print(4)\n",
    "                filename = subdir + os.sep + filename\n",
    "                sig , sr = librosa.load(filename,mono=True,sr=None)\n",
    "                array = librosa.onset.onset_detect(sig,sr)\n",
    "                value = array[0]\n",
    "                dictionary[filename] = value"
   ]
  },
  {
   "cell_type": "code",
   "execution_count": 127,
   "metadata": {},
   "outputs": [],
   "source": [
    "firstOnsets = {}\n",
    "firstOnsetDetect('/Users/mattweisberg/GitHub/CompMusFall2018/Final_Project', firstOnsets)\n",
    "#print(firstOnsets)"
   ]
  },
  {
   "cell_type": "code",
   "execution_count": 65,
   "metadata": {},
   "outputs": [],
   "source": [
    "def extractAttr(filename):\n",
    "    attr = pandas.read_csv(filename,header=None)\n",
    "    x = attr.iloc[:,0]\n",
    "    y = attr.iloc[:,1]  \n",
    "    x = x[0:130]\n",
    "    y = y[0:130]\n",
    "    return y"
   ]
  },
  {
   "cell_type": "code",
   "execution_count": 4,
   "metadata": {},
   "outputs": [
    {
     "ename": "IndentationError",
     "evalue": "unexpected indent (<ipython-input-4-77dcc22ec0c4>, line 16)",
     "output_type": "error",
     "traceback": [
      "\u001b[0;36m  File \u001b[0;32m\"<ipython-input-4-77dcc22ec0c4>\"\u001b[0;36m, line \u001b[0;32m16\u001b[0m\n\u001b[0;31m    for i in range(len(values)):\u001b[0m\n\u001b[0m    ^\u001b[0m\n\u001b[0;31mIndentationError\u001b[0m\u001b[0;31m:\u001b[0m unexpected indent\n"
     ]
    }
   ],
   "source": [
    "def readall(attr, numpeople, numfiles):\n",
    "    path = '/Users/mattweisberg/GitHub/CompMusFall2018/Final_Project/All/' + attr\n",
    "    namearray = []\n",
    "    valuesarray = [[]]\n",
    "    maximum = 0\n",
    "    minimum = 1000\n",
    "    name = None\n",
    "    x = 0 \n",
    "    for subdir, dirs, files in os.walk(path):\n",
    "        if dirs != []:\n",
    "            namearray.append(dirs)\n",
    "            for filename in files:\n",
    "                if filename.endswith(\".csv\"):    \n",
    "                    filepath = filepath = subdir + os.sep + filename\n",
    "                    values = extractAttr(filepath)\n",
    "                        for i in range(len(values)):\n",
    "                            valuesarray[x].append(values[i])\n",
    "                    mean = np.mean(values)\n",
    "                    if mean > maximum:\n",
    "                        maximum = mean\n",
    "                        maxfile = filepath\n",
    "                    if mean < minimum:\n",
    "                        minimum = mean                            minfile = filepath\n",
    "        x = x+1                 \n",
    "        valuesarray.append([])\n",
    "    \n",
    "    namearray = namearray[0]\n",
    "    plt.figure()\n",
    "    plt.boxplot(valuesarray)\n",
    "    plt.xticks([1,2,3,4,5],[namearray[0],namearray[1],namearray[2],namearray[3],namearray[4]])  \n",
    "    plt.show()\n",
    "    \n",
    "    return valuesarray, namearray"
   ]
  },
  {
   "cell_type": "code",
   "execution_count": null,
   "metadata": {},
   "outputs": [],
   "source": []
  },
  {
   "cell_type": "code",
   "execution_count": 89,
   "metadata": {},
   "outputs": [
    {
     "data": {
      "image/png": "[encoded data removed]",
      "text/plain": [
       "<Figure size 432x288 with 1 Axes>"
      ]
     },
     "metadata": {},
     "output_type": "display_data"
    },
    {
     "data": {
      "image/png": "[encoded data removed]",
      "text/plain": [
       "<Figure size 432x288 with 1 Axes>"
      ]
     },
     "metadata": {},
     "output_type": "display_data"
    },
    {
     "data": {
      "image/png": "[encoded data removed]",
      "text/plain": [
       "<Figure size 432x288 with 1 Axes>"
      ]
     },
     "metadata": {},
     "output_type": "display_data"
    }
   ],
   "source": [
    "x, namesx = readall('OE',5)\n",
    "y, namesy = readall('Inharm',5)\n",
    "z, namesz = readall('SpecFlux',5)\n",
    "#z = compress(y, 5 , 12)\n",
    "#print(z)\n",
    "#print(y) readall('Inharm')\n",
    "#print(len(y[0]))\n",
    "\n",
    "\n"
   ]
  },
  {
   "cell_type": "code",
   "execution_count": 23,
   "metadata": {},
   "outputs": [
    {
     "name": "stdout",
     "output_type": "stream",
     "text": [
      "0\n",
      "1482\n",
      "1560\n",
      "1479\n",
      "1444\n"
     ]
    }
   ],
   "source": [
    "print(len(y[0]))\n",
    "print(len(y[1]))\n",
    "print(len(y[2]))\n",
    "print(len(y[3]))\n",
    "print(len(y[4]))"
   ]
  },
  {
   "cell_type": "code",
   "execution_count": 68,
   "metadata": {},
   "outputs": [
    {
     "name": "stdout",
     "output_type": "stream",
     "text": [
      "['AaronRourk', 'AlexGoldfarb', 'DJT', 'GrantBouvier', 'MW']\n"
     ]
    }
   ],
   "source": [
    "print(namesx)\n",
    "# How to Trim to Just Name?"
   ]
  },
  {
   "cell_type": "code",
   "execution_count": 73,
   "metadata": {},
   "outputs": [
    {
     "data": {
      "image/png": "[encoded data removed]",
      "text/plain": [
       "<Figure size 432x288 with 1 Axes>"
      ]
     },
     "metadata": {},
     "output_type": "display_data"
    },
    {
     "data": {
      "image/png": "[encoded data removed]",
      "text/plain": [
       "<Figure size 432x288 with 1 Axes>"
      ]
     },
     "metadata": {},
     "output_type": "display_data"
    },
    {
     "data": {
      "image/png": "[encoded data removed]",
      "text/plain": [
       "<Figure size 432x288 with 1 Axes>"
      ]
     },
     "metadata": {},
     "output_type": "display_data"
    }
   ],
   "source": [
    "plt.figure()\n",
    "plt.boxplot(x)\n",
    "plt.xticks([2,3,4,5,6],[namesx[0],namesx[1],namesx[2],namesx[3],namesx[4]])  \n",
    "#for i in range(len(namesx)):\n",
    " #   plt.xticks([i+2],[namesx[i]])  \n",
    "plt.show()\n",
    " \n",
    "plt.figure()\n",
    "plt.boxplot(y)\n",
    "plt.xticks([2,3,4,5,6],[namesy[0],namesy[1],namesy[2],namesy[3],namesy[4]]) \n",
    "plt.show()\n",
    "plt.figure()\n",
    "plt.boxplot(z)\n",
    "plt.xticks([2,3,4,5,6],[namesz[0],namesz[1],namesz[2],namesz[3],namesz[4]]) \n",
    "plt.show()"
   ]
  },
  {
   "cell_type": "code",
   "execution_count": 26,
   "metadata": {},
   "outputs": [],
   "source": [
    "def compress(array,numpeople,numfiles):\n",
    "    newarray = [[]]*numpeople\n",
    "    for x in range(numpeople):\n",
    "        for i in range(numfiles):\n",
    "            for j in range(int(len(array[i+(x*numfiles)]))):\n",
    "                print(x)\n",
    "                newarray[x].append(array[i+(x*numfiles)][j])\n",
    "                \n",
    "                \n",
    "    return newarray\n",
    "            "
   ]
  },
  {
   "cell_type": "code",
   "execution_count": null,
   "metadata": {},
   "outputs": [],
   "source": [
    "extractAttr('/Users/mattweisberg/GitHub/CompMusFall2018/Final_Project/All/Inharm/GrantBouvier/Clip 1_vamp_vamp-libxtract_spectral_inharmonicity_spectral_inharmonicity.csv')"
   ]
  },
  {
   "cell_type": "code",
   "execution_count": 45,
   "metadata": {},
   "outputs": [],
   "source": [
    "#plotMeans('Inharm')"
   ]
  },
  {
   "cell_type": "code",
   "execution_count": 46,
   "metadata": {},
   "outputs": [],
   "source": [
    "#plotMeans('OE')"
   ]
  },
  {
   "cell_type": "code",
   "execution_count": 47,
   "metadata": {},
   "outputs": [],
   "source": [
    "#plotMeans('SpecFlux')"
   ]
  },
  {
   "cell_type": "code",
   "execution_count": null,
   "metadata": {},
   "outputs": [],
   "source": [
    "def compress(array):\n",
    "    numsamples = 5 \n",
    "    newarray = [[]]*numsamples\n",
    "    print(len(newarray))\n",
    "    \n",
    "    for x in range(numsamples):\n",
    "        print(x)\n",
    "        len1 = 1\n",
    "        for i in range(int(len(array)/numsamples)):\n",
    "            len2 = 1\n",
    "            for j in range(int(len(array[i])/numsamples)):\n",
    "                newarray[x].append(array[x][j])\n",
    "                #z = z+1 \n",
    "                #print(z)\n",
    "                #if z == 5:\n",
    "                    #z = 0\n",
    "           \n",
    "    return newarray\n",
    "            "
   ]
  },
  {
   "cell_type": "code",
   "execution_count": null,
   "metadata": {},
   "outputs": [],
   "source": [
    "def plotMeans(name):\n",
    "    path = '/Users/mattweisberg/GitHub/CompMusFall2018/Final_Project/All/' + name\n",
    "    #path = os.getcwd()\n",
    "    means, sds, namearray, maximum, maxfile, minimum, minfile,meanofmeans = readall(path)\n",
    "    plt.figure()\n",
    "    #plt.subplot(2,1,1)\n",
    "    plt.plot(means[1], '*r', label=namearray[1])\n",
    "    plt.plot(means[2], '*g',label=namearray[2])\n",
    "    plt.plot(means[3], '*b',label=namearray[3])\n",
    "    plt.plot(means[4], '*k',label=namearray[4])\n",
    "    plt.plot(means[5], '*y',label=namearray[5])\n",
    "    plt.title(name)\n",
    "    plt.legend(loc=\"best\")\n",
    "    plt.legend(\"AADGM\")\n",
    "    \n",
    "    plt.tight_layout()\n",
    "    plt.savefig(name + '.png')\n",
    "    #plt.subplot(2,1,2)\n",
    "    plt.figure()\n",
    "    plt.title(\"Mean of Means\" +\" \" + name)\n",
    "    plt.plot(meanofmeans[1], '*r', label=namearray[1])\n",
    "    plt.plot(meanofmeans[2], '*g',label=namearray[2])\n",
    "    plt.plot(meanofmeans[3], '*b',label=namearray[3])\n",
    "    plt.plot(meanofmeans[4], '*k',label=namearray[4])\n",
    "    plt.plot(meanofmeans[5], '*y',label=namearray[5])\n",
    "    plt.legend(loc=\"best\")\n",
    "    plt.legend(\"AADGM\")\n",
    "    \n",
    "    plt.savefig(\"Mean of Means\" + name + '.png')\n",
    "    plt.tight_layout()\n",
    "    \n",
    "    plotValues(maxfile)\n",
    "    plotValues(minfile)\n",
    "    \n",
    "    \n",
    "    print(\"/\")\n",
    "    print(maximum, maxfile)\n",
    "    print(\"/\")\n",
    "    print(minimum, minfile)\n",
    "    "
   ]
  }
 ],
 "metadata": {
  "kernelspec": {
   "display_name": "Python 3",
   "language": "python",
   "name": "python3"
  },
  "language_info": {
   "codemirror_mode": {
    "name": "ipython",
    "version": 3
   },
   "file_extension": ".py",
   "mimetype": "text/x-python",
   "name": "python",
   "nbconvert_exporter": "python",
   "pygments_lexer": "ipython3",
   "version": "3.6.5"
  }
 },
 "nbformat": 4,
 "nbformat_minor": 2
}
